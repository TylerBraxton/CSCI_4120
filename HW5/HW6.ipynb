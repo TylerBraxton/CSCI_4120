{
 "cells": [
  {
   "cell_type": "markdown",
   "metadata": {},
   "source": [
    "# Homework 5 RF Accuracy Improvement\n",
    "\n",
    "This assignment is inspired by examples of Shan-Hung Wu from National Tsing Hua University.\n",
    "\n",
    "Requirement: improve the accuracy per feature of the following code from 0.03 up to at least 0.45 and accuracy should be more than 0.92\n",
    "\n",
    "Here are three hints:\n",
    "\n",
    "    You can improve the ratio by picking out or \"creating\" several features.\n",
    "    Tune hyperparameters\n",
    "    The ratio can be improved from 0.03 up to 0.47."
   ]
  },
  {
   "cell_type": "code",
   "execution_count": 18,
   "metadata": {},
   "outputs": [
    {
     "name": "stdout",
     "output_type": "stream",
     "text": [
      "(569, 30)\n",
      "Accuracy: 0.95\n",
      "Accuracy per feature: 0.47\n"
     ]
    }
   ],
   "source": [
    "from sklearn.model_selection import train_test_split\n",
    "from sklearn.datasets import load_breast_cancer\n",
    "from sklearn.metrics import accuracy_score\n",
    "from sklearn.ensemble import RandomForestClassifier\n",
    "\n",
    "\n",
    "# load the breast_cancer dataset\n",
    "init_data = load_breast_cancer()\n",
    "(X, y) = load_breast_cancer(return_X_y=True)\n",
    "\n",
    "print(X.shape)\n",
    "\n",
    "# TODO Select some features (X), hint: based on the connections with\n",
    "# our Y (importance? correlation?)\n",
    "# TODO need 5 fold cross validation\n",
    "# TODO Tune parameters for RandomForestClassifier\n",
    "# TODO Calculate Average accuracy score\n",
    "# TODO Calculate Average (accuracy score/number of features)"
   ]
  },
  {
   "cell_type": "code",
   "execution_count": null,
   "metadata": {},
   "outputs": [],
   "source": []
  },
  {
   "cell_type": "code",
   "execution_count": null,
   "metadata": {},
   "outputs": [],
   "source": []
  },
  {
   "cell_type": "code",
   "execution_count": 4,
   "metadata": {},
   "outputs": [
    {
     "name": "stdout",
     "output_type": "stream",
     "text": [
      "Selected Feature Indices: [23 27]\n",
      "Selected Feature Importances: [0.13935694 0.13222509]\n",
      "Number of Selected Features: 2\n",
      "Best Hyperparameters: {'criterion': 'entropy', 'max_depth': None, 'min_samples_leaf': 1, 'min_samples_split': 10, 'n_estimators': 150}\n",
      "Accuracy: 0.9561\n",
      "Cross-validated Accuracy: 0.9403\n",
      "Accuracy per feature: 0.4701\n"
     ]
    }
   ],
   "source": [
    "import numpy as np\n",
    "from sklearn.model_selection import train_test_split, cross_val_score, GridSearchCV\n",
    "from sklearn.datasets import load_breast_cancer\n",
    "from sklearn.metrics import accuracy_score\n",
    "from sklearn.ensemble import RandomForestClassifier\n",
    "from sklearn.feature_selection import SelectFromModel\n",
    "\n",
    "# Load the dataset\n",
    "data = load_breast_cancer()\n",
    "X, y = data.data, data.target\n",
    "\n",
    "# Feature Selection using RandomForest importance\n",
    "feature_selector = RandomForestClassifier(n_estimators=100, random_state=42)\n",
    "feature_selector.fit(X, y)\n",
    "\n",
    "# Get feature importances\n",
    "importances = feature_selector.feature_importances_\n",
    "\n",
    "# Use SelectFromModel to select features based on importance\n",
    "# Setting a threshold to the mean of the feature importances\n",
    "threshold = 3.5 * np.mean(importances)  # You can adjust the threshold (e.g., '1.5*mean') for stricter selection\n",
    "selector = SelectFromModel(feature_selector, threshold=threshold, prefit=True)\n",
    "\n",
    "# Reduce X to selected features\n",
    "X_selected = selector.transform(X)\n",
    "selected_feature_indices = selector.get_support(indices=True)\n",
    "\n",
    "# Print selected feature indices and their importance\n",
    "selected_importances = importances[selected_feature_indices]\n",
    "print(f\"Selected Feature Indices: {selected_feature_indices}\")\n",
    "print(f\"Selected Feature Importances: {selected_importances}\")\n",
    "print(f\"Number of Selected Features: {X_selected.shape[1]}\")\n",
    "\n",
    "# Split data into training and testing sets\n",
    "X_train, X_test, y_train, y_test = train_test_split(X_selected, y, test_size=0.2, random_state=42)\n",
    "\n",
    "# Hyperparameter tuning using GridSearchCV\n",
    "param_grid = {\n",
    "    'n_estimators': [50, 100, 150],\n",
    "    'criterion': ['gini', 'entropy'],\n",
    "    'max_depth': [None, 10, 20, 30],\n",
    "    'min_samples_split': [2, 5, 10],\n",
    "    'min_samples_leaf': [1, 2, 4]\n",
    "}\n",
    "\n",
    "# Initialize RandomForestClassifier\n",
    "rf = RandomForestClassifier(random_state=42)\n",
    "grid_search = GridSearchCV(estimator=rf, param_grid=param_grid, cv=5, scoring='accuracy', n_jobs=-1)\n",
    "\n",
    "# Fit model\n",
    "grid_search.fit(X_train, y_train)\n",
    "\n",
    "# Best hyperparameters\n",
    "best_params = grid_search.best_params_\n",
    "print(\"Best Hyperparameters:\", best_params)\n",
    "\n",
    "# Use the best model to predict\n",
    "best_rf = grid_search.best_estimator_\n",
    "y_pred = best_rf.predict(X_test)\n",
    "\n",
    "# Calculate accuracy\n",
    "accuracy = accuracy_score(y_test, y_pred)\n",
    "print(f\"Accuracy: {accuracy:.4f}\")\n",
    "\n",
    "# Cross-validation to check overall performance\n",
    "cv_scores = cross_val_score(best_rf, X_selected, y, cv=5)\n",
    "cv_accuracy = np.mean(cv_scores)\n",
    "print(f\"Cross-validated Accuracy: {cv_accuracy:.4f}\")\n",
    "\n",
    "# Calculate Accuracy per feature\n",
    "num_features = X_selected.shape[1]\n",
    "accuracy_per_feature = cv_accuracy / num_features\n",
    "print(f\"Accuracy per feature: {accuracy_per_feature:.4f}\")\n",
    "\n",
    "# Check if the conditions are met\n",
    "assert cv_accuracy > 0.92, \"Accuracy should be more than 0.92\"\n",
    "assert accuracy_per_feature > 0.45, \"Accuracy per feature should be more than 0.45\"\n"
   ]
  }
 ],
 "metadata": {
  "kernelspec": {
   "display_name": "Python 3",
   "language": "python",
   "name": "python3"
  },
  "language_info": {
   "codemirror_mode": {
    "name": "ipython",
    "version": 3
   },
   "file_extension": ".py",
   "mimetype": "text/x-python",
   "name": "python",
   "nbconvert_exporter": "python",
   "pygments_lexer": "ipython3",
   "version": "3.13.0"
  }
 },
 "nbformat": 4,
 "nbformat_minor": 2
}
